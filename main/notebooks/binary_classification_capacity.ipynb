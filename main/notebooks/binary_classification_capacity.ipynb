{
 "cells": [
  {
   "cell_type": "code",
   "execution_count": 1,
   "metadata": {},
   "outputs": [],
   "source": [
    "from sklearn.ensemble import RandomForestClassifier\n",
    "import pandas as pd\n",
    "import h5py\n",
    "import numpy as np\n",
    "from sklearn.metrics import accuracy_score\n",
    "from sklearn.model_selection import train_test_split \n",
    "import pywt\n",
    "from plotly import tools\n",
    "from plotly.offline import init_notebook_mode, iplot, plot\n",
    "# import cufflinks as cf\n",
    "import xgboost as xgb\n",
    "import plotly.graph_objs as go\n",
    "from datetime import datetime\n",
    "from datetime import timedelta\n",
    "import warnings\n",
    "import time\n",
    "from collections import Counter\n",
    "import scipy\n",
    "import pywt\n",
    "warnings.filterwarnings('ignore')\n",
    "\n",
    "from sklearn.preprocessing import LabelBinarizer"
   ]
  },
  {
   "cell_type": "code",
   "execution_count": 2,
   "metadata": {},
   "outputs": [],
   "source": [
    "X_train = h5py.File(\"original_data/X_train.h5\", \"r\")\n",
    "y_train_ = pd.read_csv(\"original_data/y_train.csv\").as_matrix()[:, 1].squeeze()\n",
    "df_train = pd.DataFrame(data=X_train[\"features\"][:])"
   ]
  },
  {
   "cell_type": "code",
   "execution_count": 12,
   "metadata": {},
   "outputs": [],
   "source": [
    "df_train_final = pd.read_hdf('df_train_final.h5', 'df_train_final')"
   ]
  },
  {
   "cell_type": "code",
   "execution_count": 4,
   "metadata": {},
   "outputs": [],
   "source": [
    "predictors= list(df_train_final.columns[0:17])+list(df_train_final.columns[81:83]) + list(df_train_final.columns[85:181])"
   ]
  },
  {
   "cell_type": "code",
   "execution_count": 21,
   "metadata": {},
   "outputs": [],
   "source": [
    "df_train_final1 = df_train_final[predictors]\n",
    "df_train_final1[var_to_pred] = df_train_final[var_to_pred]"
   ]
  },
  {
   "cell_type": "markdown",
   "metadata": {},
   "source": [
    "## Binary Labels"
   ]
  },
  {
   "cell_type": "code",
   "execution_count": 22,
   "metadata": {},
   "outputs": [],
   "source": [
    "var_to_pred = 'SO'"
   ]
  },
  {
   "cell_type": "code",
   "execution_count": 23,
   "metadata": {},
   "outputs": [],
   "source": [
    "lb = LabelBinarizer()"
   ]
  },
  {
   "cell_type": "code",
   "execution_count": 24,
   "metadata": {},
   "outputs": [],
   "source": [
    "df_binary = df_train_final1.join(pd.DataFrame(lb.fit_transform(df_train_final1[var_to_pred]),\n",
    "                          columns=lb.classes_, \n",
    "                          index=df_train_final1.index))"
   ]
  },
  {
   "cell_type": "code",
   "execution_count": 30,
   "metadata": {},
   "outputs": [],
   "source": [
    "df_binary_0 = df_binary.drop(columns=[var_to_pred, 1, 2])\n",
    "df_binary_0 = df_binary_0.rename(columns={0:var_to_pred})"
   ]
  },
  {
   "cell_type": "code",
   "execution_count": 31,
   "metadata": {},
   "outputs": [],
   "source": [
    "df_binary_1 = df_binary.drop(columns=[var_to_pred, 0, 2])\n",
    "df_binary_1 = df_binary_1.rename(columns={1:var_to_pred})"
   ]
  },
  {
   "cell_type": "code",
   "execution_count": 32,
   "metadata": {},
   "outputs": [],
   "source": [
    "df_binary_2 = df_binary.drop(columns=[var_to_pred, 0, 1])\n",
    "df_binary_2 = df_binary_2.rename(columns={2:var_to_pred})"
   ]
  },
  {
   "cell_type": "code",
   "execution_count": 34,
   "metadata": {},
   "outputs": [
    {
     "data": {
      "text/plain": [
       "Index(['num_pso', 'mean_amp_pso', 'mean_dur_pso', 'amp_cso', 'dur_cso',\n",
       "       'time_since_sleep', 'time_in_ds', 'time_in_ls', 'time_in_rs',\n",
       "       'time_in_ws',\n",
       "       ...\n",
       "       'wawelets_87', 'wawelets_88', 'wawelets_89', 'wawelets_90',\n",
       "       'wawelets_91', 'wawelets_92', 'wawelets_93', 'wawelets_94',\n",
       "       'wawelets_95', 'SO'],\n",
       "      dtype='object', length=116)"
      ]
     },
     "execution_count": 34,
     "metadata": {},
     "output_type": "execute_result"
    }
   ],
   "source": [
    "df_binary_0.columns"
   ]
  },
  {
   "cell_type": "code",
   "execution_count": 35,
   "metadata": {},
   "outputs": [],
   "source": [
    "df_binary_0.to_hdf('df_binary_0.h5', key='df_binary_0')"
   ]
  },
  {
   "cell_type": "code",
   "execution_count": 36,
   "metadata": {},
   "outputs": [],
   "source": [
    "df_binary_1.to_hdf('df_binary_1.h5', key='df_binary_1')"
   ]
  },
  {
   "cell_type": "code",
   "execution_count": 37,
   "metadata": {},
   "outputs": [],
   "source": [
    "df_binary_2.to_hdf('df_binary_2.h5', key='df_binary_2')"
   ]
  },
  {
   "cell_type": "code",
   "execution_count": 25,
   "metadata": {},
   "outputs": [],
   "source": [
    "df_binary_0.to_csv('df_binary_0.csv')"
   ]
  },
  {
   "cell_type": "code",
   "execution_count": 34,
   "metadata": {},
   "outputs": [
    {
     "name": "stdout",
     "output_type": "stream",
     "text": [
      "1.0\n",
      "0.0\n",
      "0.0\n",
      "0.0\n"
     ]
    }
   ],
   "source": [
    "i=0\n",
    "for row in df_binary_0.iterrows():\n",
    "    print(row[1][-1])\n",
    "    i+=1\n",
    "    if i==4:\n",
    "        break"
   ]
  },
  {
   "cell_type": "code",
   "execution_count": 39,
   "metadata": {},
   "outputs": [
    {
     "data": {
      "text/html": [
       "<div>\n",
       "<style scoped>\n",
       "    .dataframe tbody tr th:only-of-type {\n",
       "        vertical-align: middle;\n",
       "    }\n",
       "\n",
       "    .dataframe tbody tr th {\n",
       "        vertical-align: top;\n",
       "    }\n",
       "\n",
       "    .dataframe thead th {\n",
       "        text-align: right;\n",
       "    }\n",
       "</style>\n",
       "<table border=\"1\" class=\"dataframe\">\n",
       "  <thead>\n",
       "    <tr style=\"text-align: right;\">\n",
       "      <th></th>\n",
       "      <th>num_pso</th>\n",
       "      <th>mean_amp_pso</th>\n",
       "      <th>mean_dur_pso</th>\n",
       "      <th>amp_cso</th>\n",
       "      <th>dur_cso</th>\n",
       "      <th>time_since_sleep</th>\n",
       "      <th>time_in_ds</th>\n",
       "      <th>time_in_ls</th>\n",
       "      <th>time_in_rs</th>\n",
       "      <th>time_in_ws</th>\n",
       "      <th>...</th>\n",
       "      <th>wawelets_2_sec_51</th>\n",
       "      <th>wawelets_2_sec_52</th>\n",
       "      <th>wawelets_2_sec_53</th>\n",
       "      <th>wawelets_2_sec_54</th>\n",
       "      <th>wawelets_2_sec_55</th>\n",
       "      <th>wawelets_2_sec_56</th>\n",
       "      <th>wawelets_2_sec_57</th>\n",
       "      <th>wawelets_2_sec_58</th>\n",
       "      <th>wawelets_2_sec_59</th>\n",
       "      <th>SO</th>\n",
       "    </tr>\n",
       "  </thead>\n",
       "  <tbody>\n",
       "    <tr>\n",
       "      <th>0</th>\n",
       "      <td>237.0</td>\n",
       "      <td>152.658761</td>\n",
       "      <td>341.523207</td>\n",
       "      <td>128.017491</td>\n",
       "      <td>429.0</td>\n",
       "      <td>11379.0</td>\n",
       "      <td>2730.0</td>\n",
       "      <td>3780.0</td>\n",
       "      <td>0.0</td>\n",
       "      <td>480.0</td>\n",
       "      <td>...</td>\n",
       "      <td>-1.269829</td>\n",
       "      <td>-0.505228</td>\n",
       "      <td>0.505317</td>\n",
       "      <td>1.257482</td>\n",
       "      <td>-0.019131</td>\n",
       "      <td>0.001756</td>\n",
       "      <td>0.841372</td>\n",
       "      <td>0.707907</td>\n",
       "      <td>0.660160</td>\n",
       "      <td>1</td>\n",
       "    </tr>\n",
       "    <tr>\n",
       "      <th>1</th>\n",
       "      <td>176.0</td>\n",
       "      <td>146.883435</td>\n",
       "      <td>338.039773</td>\n",
       "      <td>119.130849</td>\n",
       "      <td>196.0</td>\n",
       "      <td>6721.0</td>\n",
       "      <td>2580.0</td>\n",
       "      <td>2100.0</td>\n",
       "      <td>0.0</td>\n",
       "      <td>480.0</td>\n",
       "      <td>...</td>\n",
       "      <td>-1.251475</td>\n",
       "      <td>-0.580705</td>\n",
       "      <td>0.453012</td>\n",
       "      <td>1.541071</td>\n",
       "      <td>-0.058753</td>\n",
       "      <td>-0.000819</td>\n",
       "      <td>0.852977</td>\n",
       "      <td>0.727571</td>\n",
       "      <td>0.658971</td>\n",
       "      <td>0</td>\n",
       "    </tr>\n",
       "    <tr>\n",
       "      <th>2</th>\n",
       "      <td>456.0</td>\n",
       "      <td>152.376541</td>\n",
       "      <td>335.629386</td>\n",
       "      <td>164.292580</td>\n",
       "      <td>417.0</td>\n",
       "      <td>26832.0</td>\n",
       "      <td>3240.0</td>\n",
       "      <td>7440.0</td>\n",
       "      <td>2130.0</td>\n",
       "      <td>750.0</td>\n",
       "      <td>...</td>\n",
       "      <td>-1.546928</td>\n",
       "      <td>-0.654804</td>\n",
       "      <td>0.599300</td>\n",
       "      <td>1.511609</td>\n",
       "      <td>0.086784</td>\n",
       "      <td>0.006449</td>\n",
       "      <td>0.988418</td>\n",
       "      <td>0.976971</td>\n",
       "      <td>0.774067</td>\n",
       "      <td>0</td>\n",
       "    </tr>\n",
       "    <tr>\n",
       "      <th>3</th>\n",
       "      <td>21.0</td>\n",
       "      <td>139.720772</td>\n",
       "      <td>336.285714</td>\n",
       "      <td>159.237082</td>\n",
       "      <td>407.0</td>\n",
       "      <td>1289.0</td>\n",
       "      <td>0.0</td>\n",
       "      <td>60.0</td>\n",
       "      <td>0.0</td>\n",
       "      <td>450.0</td>\n",
       "      <td>...</td>\n",
       "      <td>-1.446389</td>\n",
       "      <td>-0.538793</td>\n",
       "      <td>0.524387</td>\n",
       "      <td>1.378819</td>\n",
       "      <td>-0.017170</td>\n",
       "      <td>-0.005554</td>\n",
       "      <td>0.886979</td>\n",
       "      <td>0.786731</td>\n",
       "      <td>0.691827</td>\n",
       "      <td>0</td>\n",
       "    </tr>\n",
       "    <tr>\n",
       "      <th>4</th>\n",
       "      <td>72.0</td>\n",
       "      <td>140.649432</td>\n",
       "      <td>349.875000</td>\n",
       "      <td>130.184278</td>\n",
       "      <td>297.0</td>\n",
       "      <td>2262.0</td>\n",
       "      <td>630.0</td>\n",
       "      <td>960.0</td>\n",
       "      <td>0.0</td>\n",
       "      <td>450.0</td>\n",
       "      <td>...</td>\n",
       "      <td>-1.522254</td>\n",
       "      <td>-0.573445</td>\n",
       "      <td>0.530961</td>\n",
       "      <td>1.567218</td>\n",
       "      <td>0.034848</td>\n",
       "      <td>0.005318</td>\n",
       "      <td>0.946961</td>\n",
       "      <td>0.896734</td>\n",
       "      <td>0.718545</td>\n",
       "      <td>0</td>\n",
       "    </tr>\n",
       "  </tbody>\n",
       "</table>\n",
       "<p>5 rows × 306 columns</p>\n",
       "</div>"
      ],
      "text/plain": [
       "   num_pso  mean_amp_pso  mean_dur_pso     amp_cso  dur_cso  time_since_sleep  \\\n",
       "0    237.0    152.658761    341.523207  128.017491    429.0           11379.0   \n",
       "1    176.0    146.883435    338.039773  119.130849    196.0            6721.0   \n",
       "2    456.0    152.376541    335.629386  164.292580    417.0           26832.0   \n",
       "3     21.0    139.720772    336.285714  159.237082    407.0            1289.0   \n",
       "4     72.0    140.649432    349.875000  130.184278    297.0            2262.0   \n",
       "\n",
       "   time_in_ds  time_in_ls  time_in_rs  time_in_ws  ...  wawelets_2_sec_51  \\\n",
       "0      2730.0      3780.0         0.0       480.0  ...          -1.269829   \n",
       "1      2580.0      2100.0         0.0       480.0  ...          -1.251475   \n",
       "2      3240.0      7440.0      2130.0       750.0  ...          -1.546928   \n",
       "3         0.0        60.0         0.0       450.0  ...          -1.446389   \n",
       "4       630.0       960.0         0.0       450.0  ...          -1.522254   \n",
       "\n",
       "   wawelets_2_sec_52  wawelets_2_sec_53  wawelets_2_sec_54  wawelets_2_sec_55  \\\n",
       "0          -0.505228           0.505317           1.257482          -0.019131   \n",
       "1          -0.580705           0.453012           1.541071          -0.058753   \n",
       "2          -0.654804           0.599300           1.511609           0.086784   \n",
       "3          -0.538793           0.524387           1.378819          -0.017170   \n",
       "4          -0.573445           0.530961           1.567218           0.034848   \n",
       "\n",
       "   wawelets_2_sec_56  wawelets_2_sec_57  wawelets_2_sec_58  wawelets_2_sec_59  \\\n",
       "0           0.001756           0.841372           0.707907           0.660160   \n",
       "1          -0.000819           0.852977           0.727571           0.658971   \n",
       "2           0.006449           0.988418           0.976971           0.774067   \n",
       "3          -0.005554           0.886979           0.786731           0.691827   \n",
       "4           0.005318           0.946961           0.896734           0.718545   \n",
       "\n",
       "   SO  \n",
       "0   1  \n",
       "1   0  \n",
       "2   0  \n",
       "3   0  \n",
       "4   0  \n",
       "\n",
       "[5 rows x 306 columns]"
      ]
     },
     "execution_count": 39,
     "metadata": {},
     "output_type": "execute_result"
    }
   ],
   "source": [
    "df_binary_0.head()"
   ]
  },
  {
   "cell_type": "code",
   "execution_count": null,
   "metadata": {},
   "outputs": [],
   "source": [
    "X_train, X_val, y_train, y_val = train_test_split(df_binary_0.loc[:, df_binary_0.columns != var_to_pred], df_binary_0[var_to_pred], test_size=0.10,random_state=0, stratify=df_binary_0[var_to_pred])"
   ]
  },
  {
   "cell_type": "code",
   "execution_count": null,
   "metadata": {},
   "outputs": [],
   "source": [
    "y_train = pd.DataFrame(y_train)\n",
    "y_val = pd.DataFrame(y_val)"
   ]
  },
  {
   "cell_type": "markdown",
   "metadata": {},
   "source": [
    "## Get binary dataframe columns"
   ]
  },
  {
   "cell_type": "code",
   "execution_count": 60,
   "metadata": {},
   "outputs": [
    {
     "name": "stdout",
     "output_type": "stream",
     "text": [
      "['num_pso', 'mean_amp_pso', 'mean_dur_pso', 'amp_cso', 'dur_cso', 'time_since_sleep', 'time_in_ds', 'time_in_ls', 'time_in_rs', 'time_in_ws', 'mean', 'max', 'min', 'perm_entropy', 'svd_entropy', 'higuchi_fd', 'detrended_fluctuation', 'fft_0', 'fft_1', 'fft_2', 'fft_3', 'fft_4', 'fft_5', 'fft_6', 'fft_7', 'fft_8', 'fft_9', 'fft_10', 'fft_11', 'fft_12', 'fft_13', 'fft_14', 'fft_15', 'fft_16', 'fft_17', 'fft_18', 'fft_19', 'fft_20', 'fft_21', 'fft_22', 'fft_23', 'fft_24', 'fft_25', 'fft_26', 'fft_27', 'fft_28', 'fft_29', 'fft_30', 'fft_31', 'fft_32', 'fft_33', 'fft_34', 'fft_35', 'fft_36', 'fft_37', 'fft_38', 'fft_39', 'fft_40', 'fft_41', 'fft_42', 'fft_43', 'fft_44', 'fft_45', 'fft_46', 'fft_47', 'fft_48', 'fft_49', 'fft_50', 'fft_51', 'fft_52', 'fft_53', 'fft_54', 'fft_55', 'fft_56', 'fft_57', 'fft_58', 'fft_59', 'fft_60', 'fft_61', 'fft_62', 'fft_63', 'wawelets_1', 'wawelets_2', 'wawelets_3', 'wawelets_4', 'wawelets_5', 'wawelets_6', 'wawelets_7', 'wawelets_8', 'wawelets_9', 'wawelets_10', 'wawelets_11', 'wawelets_12', 'wawelets_13', 'wawelets_14', 'wawelets_15', 'wawelets_16', 'wawelets_17', 'wawelets_18', 'wawelets_19', 'wawelets_20', 'wawelets_21', 'wawelets_22', 'wawelets_23', 'wawelets_24', 'wawelets_25', 'wawelets_26', 'wawelets_27', 'wawelets_28', 'wawelets_29', 'wawelets_30', 'wawelets_31', 'wawelets_32', 'wawelets_33', 'wawelets_34', 'wawelets_35', 'wawelets_36', 'wawelets_37', 'wawelets_38', 'wawelets_39', 'wawelets_40', 'wawelets_41', 'wawelets_42', 'wawelets_43', 'wawelets_44', 'wawelets_45', 'wawelets_46', 'wawelets_47', 'wawelets_48', 'wawelets_49', 'wawelets_50', 'wawelets_51', 'wawelets_52', 'wawelets_53', 'wawelets_54', 'wawelets_55', 'wawelets_56', 'wawelets_57', 'wawelets_58', 'wawelets_59', 'wawelets_60', 'wawelets_61', 'wawelets_62', 'wawelets_63', 'wawelets_64', 'wawelets_65', 'wawelets_66', 'wawelets_67', 'wawelets_68', 'wawelets_69', 'wawelets_70', 'wawelets_71', 'wawelets_72', 'wawelets_73', 'wawelets_74', 'wawelets_75', 'wawelets_76', 'wawelets_77', 'wawelets_78', 'wawelets_79', 'wawelets_80', 'wawelets_81', 'wawelets_82', 'wawelets_83', 'wawelets_84', 'wawelets_85', 'wawelets_86', 'wawelets_87', 'wawelets_88', 'wawelets_89', 'wawelets_90', 'wawelets_91', 'wawelets_92', 'wawelets_93', 'wawelets_94', 'wawelets_95', 'SO']\n"
     ]
    }
   ],
   "source": [
    "df_binary = pd.read_hdf('df_binary_0.h5', 'df_binary_0.h5'.replace('.h5', ''))\n",
    "predictors = list(list(df_binary.columns[0:81])+list(df_binary.columns[85:180]))\n",
    "predictors.append(str(df_binary_0.columns[-1]))\n",
    "print(predictors)\n",
    "#df_binary = df_binary[predictors]"
   ]
  },
  {
   "cell_type": "code",
   "execution_count": 62,
   "metadata": {},
   "outputs": [
    {
     "data": {
      "text/plain": [
       "['curr_sleep_stage_2.0',\n",
       " 'curr_sleep_stage_3.0',\n",
       " 'slow_o',\n",
       " 'wawelets_0',\n",
       " 'wawelets_1',\n",
       " 'wawelets_2',\n",
       " 'wawelets_3',\n",
       " 'wawelets_4',\n",
       " 'wawelets_5',\n",
       " 'wawelets_6',\n",
       " 'wawelets_7',\n",
       " 'wawelets_8',\n",
       " 'wawelets_9',\n",
       " 'wawelets_10',\n",
       " 'wawelets_11',\n",
       " 'wawelets_12',\n",
       " 'wawelets_13',\n",
       " 'wawelets_14',\n",
       " 'wawelets_15',\n",
       " 'wawelets_16',\n",
       " 'wawelets_17',\n",
       " 'wawelets_18',\n",
       " 'wawelets_19',\n",
       " 'wawelets_20',\n",
       " 'wawelets_21',\n",
       " 'wawelets_22',\n",
       " 'wawelets_23',\n",
       " 'wawelets_24',\n",
       " 'wawelets_25',\n",
       " 'wawelets_26',\n",
       " 'wawelets_27',\n",
       " 'wawelets_28',\n",
       " 'wawelets_29',\n",
       " 'wawelets_30',\n",
       " 'wawelets_31',\n",
       " 'wawelets_32',\n",
       " 'wawelets_33',\n",
       " 'wawelets_34',\n",
       " 'wawelets_35',\n",
       " 'wawelets_36',\n",
       " 'wawelets_37',\n",
       " 'wawelets_38',\n",
       " 'wawelets_39',\n",
       " 'wawelets_40',\n",
       " 'wawelets_41',\n",
       " 'wawelets_42',\n",
       " 'wawelets_43',\n",
       " 'wawelets_44',\n",
       " 'wawelets_45',\n",
       " 'wawelets_46',\n",
       " 'wawelets_47',\n",
       " 'wawelets_48',\n",
       " 'wawelets_49',\n",
       " 'wawelets_50',\n",
       " 'wawelets_51',\n",
       " 'wawelets_52',\n",
       " 'wawelets_53',\n",
       " 'wawelets_54',\n",
       " 'wawelets_55',\n",
       " 'wawelets_56',\n",
       " 'wawelets_57',\n",
       " 'wawelets_58',\n",
       " 'wawelets_59',\n",
       " 'wawelets_60',\n",
       " 'wawelets_61',\n",
       " 'wawelets_62',\n",
       " 'wawelets_63',\n",
       " 'wawelets_64',\n",
       " 'wawelets_65',\n",
       " 'wawelets_66',\n",
       " 'wawelets_67',\n",
       " 'wawelets_68',\n",
       " 'wawelets_69',\n",
       " 'wawelets_70',\n",
       " 'wawelets_71',\n",
       " 'wawelets_72',\n",
       " 'wawelets_73',\n",
       " 'wawelets_74',\n",
       " 'wawelets_75',\n",
       " 'wawelets_76',\n",
       " 'wawelets_77',\n",
       " 'wawelets_78',\n",
       " 'wawelets_79',\n",
       " 'wawelets_80',\n",
       " 'wawelets_81',\n",
       " 'wawelets_82',\n",
       " 'wawelets_83',\n",
       " 'wawelets_84',\n",
       " 'wawelets_85',\n",
       " 'wawelets_86',\n",
       " 'wawelets_87',\n",
       " 'wawelets_88',\n",
       " 'wawelets_89',\n",
       " 'wawelets_90',\n",
       " 'wawelets_91',\n",
       " 'wawelets_92',\n",
       " 'wawelets_93',\n",
       " 'wawelets_94',\n",
       " 'wawelets_95']"
      ]
     },
     "execution_count": 62,
     "metadata": {},
     "output_type": "execute_result"
    }
   ],
   "source": [
    "list(list(df_binary.columns[81:85])+list(df_binary.columns[85:180]))"
   ]
  },
  {
   "cell_type": "code",
   "execution_count": null,
   "metadata": {},
   "outputs": [],
   "source": []
  }
 ],
 "metadata": {
  "kernelspec": {
   "display_name": "Python 3",
   "language": "python",
   "name": "python3"
  },
  "language_info": {
   "codemirror_mode": {
    "name": "ipython",
    "version": 3
   },
   "file_extension": ".py",
   "mimetype": "text/x-python",
   "name": "python",
   "nbconvert_exporter": "python",
   "pygments_lexer": "ipython3",
   "version": "3.6.5"
  }
 },
 "nbformat": 4,
 "nbformat_minor": 2
}
